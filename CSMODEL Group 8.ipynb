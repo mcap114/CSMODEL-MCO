{
 "cells": [
  {
   "cell_type": "markdown",
   "id": "d92be349",
   "metadata": {},
   "source": [
    "# CSMODEL Project - Netflix Userbase Dataset Case Study\n",
    "\n",
    "### Group 8\n",
    "CAPAROS, MIGUEL ANTONIO <br> \n",
    "FERRER, ANGEL JUNE <br>\n",
    "MARTINEZ, AZELIAH <br>\n",
    "VILLANUEVA, KEISHA LEIGH <br>"
   ]
  },
  {
   "cell_type": "markdown",
   "id": "1e871d42",
   "metadata": {},
   "source": [
    "# I. Dataset Description\n",
    "\n",
    "The Netflix Userbase Dataset provides a snapshot of a sample Netflix userbase, showcasing various aspects of user subscriptions, revenue, account details, and activity. Each row represents a unique user, identified by their User ID. The dataset serves as a synthetic representation and does not reflect actual Netflix user data. \n",
    "\n",
    "\n",
    "## Data Collection Process\n",
    "\n",
    "The dataset is synthetically sourced, and as such, any conclusions and insights may not accurately reflect real-world data. \n",
    "\n",
    "\n",
    "\n",
    "## Dataset File Structure\n",
    "\n",
    "Each row in the dataset represents a unique user. Each columns contain various details about the user. The dataset contains a total of 2500 observations (rows) and 10 variables (columns). Each variable provides specific details about the users, enabling analysis of subscription patterns, revenue generation, and user behavior.\n",
    "\n",
    "***If the dataset is composed of different files that you will combine in the succeeding steps, describe the structure and the contents of each file.***\n",
    "\n",
    "\n",
    "## Dataset Variables\n",
    "\n",
    "The dataset contains 10 variables, each representing different user information such as:\n",
    "\n",
    "- User ID: A unique identifier for each user.\n",
    "- Subscription Type: The type of subscription the user has (basic, standard, or premium).\n",
    "- Monthly Revenue: The monthly revenue generated from the user's subscription.\n",
    "- Join Date: The date the user joined Netflix.\n",
    "- Last Payment Date: The date of the user's last payment.\n",
    "- Country: The country where the user is located.\n",
    "- Age: The age of the user.\n",
    "- Gender: The gender of the user.\n",
    "- Device Type: The type of device the user primarily uses to access Netflix (e.g., Smart TV, Mobile, Desktop, Tablet).\n"
   ]
  },
  {
   "cell_type": "markdown",
   "id": "82e920be",
   "metadata": {},
   "source": [
    "# II. Data Cleaning\n",
    "\n",
    "?\n",
    "\n"
   ]
  },
  {
   "cell_type": "markdown",
   "id": "4266584b",
   "metadata": {},
   "source": [
    "# III. Exploratory Data Analysis\n",
    "\n",
    "In this section of the notebook, you must fulfill the following:\n",
    "- Identify at least __4 exploratory data analysis questions__. Properly state the questions in the notebook. Having more than 4 questions is acceptable, especially if this will help in understanding the data better.\n",
    "\n",
    "Answer the EDA questions using both:\n",
    "- Numerical Summaries – measures of central tendency, measures of dispersion, and correlation\n",
    "- Visualization – Appropriate visualization should be used. Each visualization should be accompanied by a brief explanation.\n",
    "\n",
    "To emphasize, __both numerical summary and visualization__ should be presented for each question.\n",
    "The whole process should be supported with verbose textual descriptions of your procedures and findings.\n"
   ]
  }
 ],
 "metadata": {
  "kernelspec": {
   "display_name": "Python 3 (ipykernel)",
   "language": "python",
   "name": "python3"
  },
  "language_info": {
   "codemirror_mode": {
    "name": "ipython",
    "version": 3
   },
   "file_extension": ".py",
   "mimetype": "text/x-python",
   "name": "python",
   "nbconvert_exporter": "python",
   "pygments_lexer": "ipython3",
   "version": "3.11.7"
  }
 },
 "nbformat": 4,
 "nbformat_minor": 5
}
