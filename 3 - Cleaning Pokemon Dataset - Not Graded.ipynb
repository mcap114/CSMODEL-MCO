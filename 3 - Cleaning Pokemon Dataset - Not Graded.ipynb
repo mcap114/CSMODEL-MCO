{
 "cells": [
  {
   "cell_type": "markdown",
   "metadata": {},
   "source": [
    "## Data Cleaning\n",
    "\n",
    "In this Notebook, we will be using a revised version of the [Pokemon Dataset](https://www.kaggle.com/mariotormo/complete-pokemon-dataset-updated-090420), purposefully dirtied for the purpose of performing data cleaning. Additionally, some columns were also omitted for this notebook.\n",
    "\n",
    "Our Notebooks in CSMODEL are designed to be guided learning activities. To use them, simply go through the cells from top to bottom, following the directions along the way. If you find any unclear parts or mistakes in the Notebooks, email your instructor."
   ]
  },
  {
   "cell_type": "markdown",
   "metadata": {},
   "source": [
    "## Instructions\n",
    "* Read each cell and implement the TODOs sequentially. The markdown/text cells also contain instructions which you need to follow to get the whole notebook working.\n",
    "* Do not change the variable names unless the instructor allows you to.\n",
    "* You are expected to search how to some functions work on the Internet or via the docs. \n",
    "* The notebooks will undergo a 'Restart and Run All' command, so make sure that your code is working properly.\n",
    "* You are expected to understand the dataset loading and processing separately from this class.\n",
    "* You may not reproduce this notebook or share them to anyone."
   ]
  },
  {
   "cell_type": "markdown",
   "metadata": {},
   "source": [
    "## Import\n",
    "Import **numpy** and **pandas**.\n",
    "\n",
    "[**`pandas`**](https://pandas.pydata.org/pandas-docs/stable/index.html) is a software library for Python which provides data structures and data analysis tools."
   ]
  },
  {
   "cell_type": "code",
   "execution_count": 2,
   "metadata": {},
   "outputs": [],
   "source": [
    "import numpy as np\n",
    "import pandas as pd"
   ]
  },
  {
   "cell_type": "markdown",
   "metadata": {},
   "source": [
    "## The Dataset\n",
    "\n",
    "The Pokemon dataset contains 890 known pokemon until 8th Generation and its varieties.\n",
    "\n",
    "The dataset is provided to you as a `.csv` file. `.csv` means comma-separated values. You can open the file in Notepad to see how it is exactly formatted"
   ]
  },
  {
   "cell_type": "markdown",
   "metadata": {},
   "source": [
    "If you view the `.csv` file in Excel, you can see that our dataset contains many **observations** (rows) across 48 **variables** (columns). An observation corresponds to a Pokemon (or a variant of it), and the variables correspond to the attributes of that Pokemon. We will describe what some of the columns mean as we go through this notebook."
   ]
  },
  {
   "cell_type": "markdown",
   "metadata": {},
   "source": [
    "## Reading the Dataset\n",
    "Our first step is to load the dataset using pandas. This will load the dataset into a pandas `DataFrame`. To load the dataset, we use the [`read_csv`](https://pandas.pydata.org/pandas-docs/stable/reference/api/pandas.read_csv.html) function. Note that you may need to change the path depending on the location of the file in your machine."
   ]
  },
  {
   "cell_type": "code",
   "execution_count": 3,
   "metadata": {},
   "outputs": [],
   "source": [
    "pokemon_df = pd.read_csv(\"pokedex.csv\")"
   ]
  },
  {
   "cell_type": "markdown",
   "metadata": {},
   "source": [
    "Whenever we load a new dataset, it is generally a good idea to call the [`info`](https://pandas.pydata.org/pandas-docs/stable/reference/api/pandas.DataFrame.info.html) function, which displays general information about the dataset."
   ]
  },
  {
   "cell_type": "code",
   "execution_count": 4,
   "metadata": {},
   "outputs": [
    {
     "name": "stdout",
     "output_type": "stream",
     "text": [
      "<class 'pandas.core.frame.DataFrame'>\n",
      "RangeIndex: 1028 entries, 0 to 1027\n",
      "Data columns (total 20 columns):\n",
      " #   Column            Non-Null Count  Dtype  \n",
      "---  ------            --------------  -----  \n",
      " 0   Unnamed: 0        1028 non-null   int64  \n",
      " 1   pokedex_number    1028 non-null   int64  \n",
      " 2   name              1028 non-null   object \n",
      " 3   generation        1028 non-null   int64  \n",
      " 4   status            1028 non-null   object \n",
      " 5   species           1028 non-null   object \n",
      " 6   type_number       1028 non-null   int64  \n",
      " 7   type_1            1028 non-null   object \n",
      " 8   type_2            542 non-null    object \n",
      " 9   height_m          1028 non-null   float64\n",
      " 10  weight_kg         1027 non-null   float64\n",
      " 11  abilities_number  1028 non-null   int64  \n",
      " 12  ability_1         1025 non-null   object \n",
      " 13  total_points      1028 non-null   int64  \n",
      " 14  hp                921 non-null    float64\n",
      " 15  attack            1026 non-null   float64\n",
      " 16  defense           842 non-null    float64\n",
      " 17  sp_attack         1025 non-null   float64\n",
      " 18  sp_defense        1027 non-null   float64\n",
      " 19  speed             1026 non-null   float64\n",
      "dtypes: float64(8), int64(6), object(6)\n",
      "memory usage: 160.8+ KB\n"
     ]
    }
   ],
   "source": [
    "pokemon_df.info()"
   ]
  },
  {
   "cell_type": "markdown",
   "metadata": {},
   "source": [
    "## Cleaning the Dataset\n",
    "Before we can start exploring our dataset, we have to clean it first in case there are inconsistencies that may incur problems in analysis.\n",
    "\n",
    "Throughout the notebook, we will look at certain scenarios and see whether we should clean the relevant variables or not. \n",
    "\n",
    "*We won't actually perform the analysis for this notebook. Exploratory Data Analysis will be discussed in the next notebook.*"
   ]
  },
  {
   "cell_type": "markdown",
   "metadata": {},
   "source": [
    "## Scenario:\n",
    "\n",
    "Let's say that we want to see **the distribution of the pokemons' statuses for a given generation**. For this, we would use the variables:\n",
    "- **`generation`**: numbered generation which the Pokemon was first introduced\n",
    "- **`status`**: denotes if the Pokemon is normal, sub legendary, legendary or mythical. (We can think of this as the Pokemon's group)\n",
    "\n",
    "Thus, we should inspect these columns and see if these need cleaning."
   ]
  },
  {
   "cell_type": "markdown",
   "metadata": {},
   "source": [
    "### `generation` variable\n",
    "The pokemon series has 8 generations as of date, with the newest generation being Pokemon Sword and Shield. As such, we can expect that the possible values for the `generation` column are the whole numbers 1 to 8. \n",
    "Use the [`unique`](https://pandas.pydata.org/pandas-docs/stable/reference/api/pandas.Series.unique.html) function to list all unique values for this variable."
   ]
  },
  {
   "cell_type": "code",
   "execution_count": null,
   "metadata": {},
   "outputs": [],
   "source": [
    "pokemon_df['generation'].unique()"
   ]
  },
  {
   "cell_type": "markdown",
   "metadata": {},
   "source": [
    "We can see here that the unique values for the `generation` variable are the numbers 1 to 8--all of which are valid."
   ]
  },
  {
   "cell_type": "markdown",
   "metadata": {},
   "source": [
    "### `status` variable\n",
    "As described earlier, the valid values for the `status` variable are either 'Normal', 'Sub Legendary', 'Legendary', or 'Mythical'. List all the unique values for the `status` variable."
   ]
  },
  {
   "cell_type": "code",
   "execution_count": null,
   "metadata": {},
   "outputs": [],
   "source": [
    "# Write your code here\n"
   ]
  },
  {
   "cell_type": "markdown",
   "metadata": {},
   "source": [
    "**Checkpoint #1:** Do we need to perform data cleaning for the `status` variable? Explain."
   ]
  },
  {
   "cell_type": "markdown",
   "metadata": {},
   "source": [
    "## Scenario:\n",
    "Let's say that we want to explore the different [types](https://bulbapedia.bulbagarden.net/wiki/Type) of Pokemon. You can think of 'types' as 'elements' in the Pokemon Universe. Generally, a pokemon can have up to two types: a primary type and an optional secondary type.\n",
    "\n",
    "For this, we would probably use the following columns:\n",
    "- **`type_1`**: primary type of the Pokemon\n",
    "- **`type_2`**: secondary type of the Pokemon (if any)\n",
    "\n",
    "Thus, we should inspect these and see if these columns need cleaning."
   ]
  },
  {
   "cell_type": "markdown",
   "metadata": {},
   "source": [
    "### `type_1` variable\n",
    "The `type_1` variable is the primary type of the Pokemon. Let's list all the unique values for the `type_1` variable."
   ]
  },
  {
   "cell_type": "code",
   "execution_count": null,
   "metadata": {},
   "outputs": [],
   "source": [
    "pokemon_df['type_1'].unique()"
   ]
  },
  {
   "cell_type": "markdown",
   "metadata": {},
   "source": [
    "Currently, there are 18 unique types in the main Pokemon franchise. You may refer to this [page](https://bulbapedia.bulbagarden.net/wiki/Type) to see the valid list of types in the main pokemon franchise Looking at the results above, we can see that there are multiple representations of the same type (`Water`, `water` for the Water type; `normal`, `Normal` for the Normal type) and there are also some values that have spelling/encoding errors (`watr` - a typo of the Water type; `Grund` - a typo of the Ground type). \n",
    "\n",
    "Generally speaking, if you are unsure on what the correct representation is, or there isn't really a *correct* representation per se, we can use the most prevalent representation in the variable. To find out the number of observations per unique value, we use the [`value_counts`](https://pandas.pydata.org/pandas-docs/stable/reference/api/pandas.Series.value_counts.html) function. This function returns the count of each unique value in the Series."
   ]
  },
  {
   "cell_type": "code",
   "execution_count": null,
   "metadata": {},
   "outputs": [],
   "source": [
    "pokemon_df['type_1'].value_counts()"
   ]
  },
  {
   "cell_type": "markdown",
   "metadata": {},
   "source": [
    "From the results above, we can see that `water` and `normal` are less prevalent than `Water` and `Normal`. Thus, it might be more preferrable to use `Water` and `Normal` to represent the Water and Normal types, respectively. "
   ]
  },
  {
   "cell_type": "markdown",
   "metadata": {},
   "source": [
    "The succeeding cells shows two ways we can use to address multiple representations and spelling errors. But before that, let's make two copies of `pokemon_df` by using the [`copy`](https://pandas.pydata.org/pandas-docs/stable/reference/api/pandas.DataFrame.copy.html) function, just to demonstrate that the two approaches will produce the same result. "
   ]
  },
  {
   "cell_type": "code",
   "execution_count": null,
   "metadata": {},
   "outputs": [],
   "source": [
    "pokemon_df1 = pokemon_df.copy()\n",
    "pokemon_df2 = pokemon_df.copy()"
   ]
  },
  {
   "cell_type": "markdown",
   "metadata": {},
   "source": [
    "One way to address it is to use the [`map`](https://pandas.pydata.org/pandas-docs/stable/reference/api/pandas.Series.map.html) function to change the values of the other representations and spelling errors. **Note that values which are not mapped in the dictionary parameter will be mapped to [`NaN`](https://numpy.org/doc/stable/reference/constants.html#numpy.NAN) (Not a Number).** As such, we should still include the correct values in the dictionary."
   ]
  },
  {
   "cell_type": "code",
   "execution_count": null,
   "metadata": {},
   "outputs": [],
   "source": [
    "pokemon_df1['type_1'] = pokemon_df1['type_1'].map({'water': 'Water', 'normal': 'Normal',\n",
    "                                                   'watr': 'Water', 'Grund': 'Ground',\n",
    "                                                   'Water': 'Water', 'Grass': 'Grass', 'Normal': 'Normal', 'Bug': 'Bug', 'Psychic': 'Psychic', 'Fire': 'Fire',\n",
    "                                                   'Electric': 'Electric', 'Rock': 'Rock', 'Dark': 'Dark', 'Ground': 'Ground', 'Ghost': 'Ghost', 'Dragon': 'Dragon',\n",
    "                                                   'Poison': 'Poison', 'Fighting': 'Fighting', 'Steel': 'Steel', 'Ice': 'Ice', 'Fairy': 'Fairy', 'Flying': 'Flying'})"
   ]
  },
  {
   "cell_type": "markdown",
   "metadata": {},
   "source": [
    "To check if the values were mapped correctly, we can confirm the counts through the `value_counts` function."
   ]
  },
  {
   "cell_type": "code",
   "execution_count": null,
   "metadata": {},
   "outputs": [],
   "source": [
    "pokemon_df1['type_1'].value_counts()"
   ]
  },
  {
   "cell_type": "markdown",
   "metadata": {},
   "source": [
    "Another way is to use the [`replace`](https://pandas.pydata.org/docs/reference/api/pandas.DataFrame.replace.html) function. In this approach, we don't have to indicate the values that we will not be changing.  "
   ]
  },
  {
   "cell_type": "code",
   "execution_count": null,
   "metadata": {},
   "outputs": [],
   "source": [
    "pokemon_df2['type_1'] = pokemon_df2['type_1'].replace({'water': 'Water', 'normal': 'Normal',\n",
    "                                                    'watr':'Water', 'Grund': 'Ground'})"
   ]
  },
  {
   "cell_type": "markdown",
   "metadata": {},
   "source": [
    "Once again, to check if the values were mapped correctly, we can confirm the counts through the `value_counts` function."
   ]
  },
  {
   "cell_type": "code",
   "execution_count": null,
   "metadata": {},
   "outputs": [],
   "source": [
    "pokemon_df2['type_1'].value_counts()"
   ]
  },
  {
   "cell_type": "markdown",
   "metadata": {},
   "source": [
    "**Checkpoint #2:** After cleaning, how many observations have the value `Water` for the `type_1` variable?"
   ]
  },
  {
   "cell_type": "markdown",
   "metadata": {},
   "source": [
    "**Checkpoint #3:** After cleaning, how many observations have the value `Normal` for the `type_1` variable?"
   ]
  },
  {
   "cell_type": "markdown",
   "metadata": {},
   "source": [
    "**Checkpoint #4:** After cleaning, how many observations have the value `Grund` for the `type_1` variable?"
   ]
  },
  {
   "cell_type": "markdown",
   "metadata": {},
   "source": [
    "The code cell below is just to update `pokemon_df` with the cleaned `type_1` variable."
   ]
  },
  {
   "cell_type": "code",
   "execution_count": null,
   "metadata": {},
   "outputs": [],
   "source": [
    "pokemon_df['type_1'] = pokemon_df1['type_1']"
   ]
  },
  {
   "cell_type": "markdown",
   "metadata": {},
   "source": [
    "### `type_2` variable"
   ]
  },
  {
   "cell_type": "markdown",
   "metadata": {},
   "source": [
    "The `type_2` variable is the secondary type of the Pokemon. Let's list all the unique values for the `type_2` variable. Note that the secondary type is optional, hence it is okay to have empty values (aka `nan`)."
   ]
  },
  {
   "cell_type": "code",
   "execution_count": null,
   "metadata": {},
   "outputs": [],
   "source": [
    "pokemon_df['type_2'].unique()"
   ]
  },
  {
   "cell_type": "markdown",
   "metadata": {},
   "source": [
    "Let's check the number of observations per value in the `type_2` variable before cleaning it."
   ]
  },
  {
   "cell_type": "code",
   "execution_count": null,
   "metadata": {},
   "outputs": [],
   "source": [
    "# Write your code here\n"
   ]
  },
  {
   "cell_type": "markdown",
   "metadata": {},
   "source": [
    "Identify and address multiple representations and spelling errors then write your code in the cell below.\n",
    "\n",
    "*You may use either of the approaches presented earlier.*"
   ]
  },
  {
   "cell_type": "code",
   "execution_count": null,
   "metadata": {},
   "outputs": [],
   "source": [
    "# Write your code here\n"
   ]
  },
  {
   "cell_type": "markdown",
   "metadata": {},
   "source": [
    "After addressing multiple representation and spelling errors, let's check again the number of unique observations per value in the `type_2` variable. "
   ]
  },
  {
   "cell_type": "code",
   "execution_count": null,
   "metadata": {},
   "outputs": [],
   "source": [
    "# Write your code here\n"
   ]
  },
  {
   "cell_type": "markdown",
   "metadata": {},
   "source": [
    "**Checkpoint #5:** Before cleaning, how many observations have the value `Normal` for the `type_2` variable?"
   ]
  },
  {
   "cell_type": "markdown",
   "metadata": {},
   "source": [
    "**Checkpoint #6:** After cleaning, how many observations have the value `Normal` for the `type_2` variable?"
   ]
  },
  {
   "cell_type": "markdown",
   "metadata": {},
   "source": [
    "**Checkpoint #7:** Before cleaning, how many observations have the value `normal` for the `type_2` variable?"
   ]
  },
  {
   "cell_type": "markdown",
   "metadata": {},
   "source": [
    "## Checking for `NaN`s\n",
    "We will now handle missing data in our dataset. Let us check each variable if it contains a `NaN` / `null` value. We'll use the [`isnull`](https://pandas.pydata.org/pandas-docs/stable/reference/api/pandas.DataFrame.isnull.html) and [`any`](https://pandas.pydata.org/pandas-docs/stable/reference/api/pandas.DataFrame.any.html) functions for this. This function call will list each variable with a boolean value indicating if the variable contains a `NaN` / `null` value."
   ]
  },
  {
   "cell_type": "code",
   "execution_count": null,
   "metadata": {},
   "outputs": [],
   "source": [
    "pokemon_df.isnull().any()"
   ]
  },
  {
   "cell_type": "markdown",
   "metadata": {},
   "source": [
    "Let's get the list of columns with `NaN` / `null` values."
   ]
  },
  {
   "cell_type": "code",
   "execution_count": null,
   "metadata": {},
   "outputs": [],
   "source": [
    "nan_variables = pokemon_df.columns[pokemon_df.isnull().any()].tolist()\n",
    "print(nan_variables)"
   ]
  },
  {
   "cell_type": "markdown",
   "metadata": {},
   "source": [
    "For each variable, show the total number of observation with `NaN` / `null` value. The [`sum`](https://pandas.pydata.org/docs/reference/api/pandas.DataFrame.sum.html) function is used to get the counts of null values per column. This works because the [`isnull`](https://pandas.pydata.org/pandas-docs/stable/reference/api/pandas.DataFrame.isnull.html) function converts the value of the cell to either `True` (if the value is `null` or `nan`) or `False` (if there is a value in the cell). Just like in most programming languages, `True` is equivalent to `1` when used in place of an integer."
   ]
  },
  {
   "cell_type": "code",
   "execution_count": null,
   "metadata": {},
   "outputs": [],
   "source": [
    "pokemon_df[nan_variables].isnull().sum()"
   ]
  },
  {
   "cell_type": "markdown",
   "metadata": {},
   "source": [
    "**Checkpoint #8:** Before cleaning, how many observations have the `NaN` value for the `weight_kg` variable?"
   ]
  },
  {
   "cell_type": "markdown",
   "metadata": {},
   "source": [
    "**Checkpoint #9:** Before cleaning, how many observations have the `NaN` value for the `ability_1` variable?"
   ]
  },
  {
   "cell_type": "markdown",
   "metadata": {},
   "source": [
    "**Checkpoint #10:** Before cleaning, how many observations have the `NaN` value for the `hp` variable?"
   ]
  },
  {
   "cell_type": "code",
   "execution_count": null,
   "metadata": {},
   "outputs": [],
   "source": [
    "pokemon_df.shape"
   ]
  },
  {
   "cell_type": "markdown",
   "metadata": {},
   "source": [
    "The [`shape`](https://pandas.pydata.org/docs/reference/api/pandas.DataFrame.shape.html) attribute returns the dimensions of the dataframe. Before cleaning, we can see here that there are a total of 1028 observations in our dataset."
   ]
  },
  {
   "cell_type": "markdown",
   "metadata": {},
   "source": [
    "The`type_2` variable have several observations that are missing a value but it is alright in this context, as having a secondary type is optional for a Pokemon."
   ]
  },
  {
   "cell_type": "code",
   "execution_count": null,
   "metadata": {},
   "outputs": [],
   "source": [
    "exclude_variables = ['type_2', 'hp', 'defense']\n",
    "dropped_variables = list(set(nan_variables) - set(exclude_variables))\n",
    "print(dropped_variables)"
   ]
  },
  {
   "cell_type": "markdown",
   "metadata": {},
   "source": [
    "Since we see that there is a very small number of observation with `NaN` / `null` value for the `ability_1`, `weight_kg`, `sp_defense`, `sp_attack`, `attack`, and `speed` variables, we can decide to drop those observations from the dataset. \n",
    "\n",
    "However, remember that in this example, we're dropping these as an example for dropping `null` values. Depending on your research question, you may have to assess whether or not these variables are important.\n",
    "\n",
    "**Hint!** Use the [`dropna`](https://pandas.pydata.org/pandas-docs/stable/reference/api/pandas.DataFrame.dropna.html) function (and its subset parameter)."
   ]
  },
  {
   "cell_type": "code",
   "execution_count": null,
   "metadata": {},
   "outputs": [],
   "source": [
    "# Write your code here\n"
   ]
  },
  {
   "cell_type": "markdown",
   "metadata": {},
   "source": [
    "Display the total number of observations left after removing observations."
   ]
  },
  {
   "cell_type": "code",
   "execution_count": null,
   "metadata": {},
   "outputs": [],
   "source": [
    "# Write your code here\n"
   ]
  },
  {
   "cell_type": "markdown",
   "metadata": {},
   "source": [
    "**Checkpoint #11:** After dropping, how many observations are left in our `DataFrame`?"
   ]
  },
  {
   "cell_type": "markdown",
   "metadata": {},
   "source": [
    "Check if the observations with `NaN` / `null` values for the `weight_kg` variable have been dropped from the dataset. Make sure that the `NaN` value is not included in the list of all values for the `weight_kg` variable."
   ]
  },
  {
   "cell_type": "code",
   "execution_count": null,
   "metadata": {},
   "outputs": [],
   "source": [
    "# Write your code here\n"
   ]
  },
  {
   "cell_type": "markdown",
   "metadata": {},
   "source": [
    "**Sanity Check!** Your code should return the output:\n",
    "\n",
    "```False```"
   ]
  },
  {
   "cell_type": "markdown",
   "metadata": {},
   "source": [
    "We can also check the counts for all of our initial variables with missing values using the code below:"
   ]
  },
  {
   "cell_type": "code",
   "execution_count": null,
   "metadata": {},
   "outputs": [],
   "source": [
    "pokemon_df[nan_variables].isnull().sum()"
   ]
  },
  {
   "cell_type": "markdown",
   "metadata": {},
   "source": [
    "### `NaN`s in the `type_2` variable"
   ]
  },
  {
   "cell_type": "markdown",
   "metadata": {},
   "source": [
    "There is a significant number of observations with `NaN` / `null` value for the `type_2` variable. However, we know that missing values for `type_2` are intended (as opposed to randomly missing), since having a secondary type is optional for a Pokemon. As such, instead of removing these observations from the dataset, we can just set a *sentinel value* to identify these observations. For this, we can just set the string `\"None\"` as our sentinel value. Use the [`loc`](https://pandas.pydata.org/pandas-docs/stable/reference/api/pandas.DataFrame.loc.html) function to select and assign `\"None\"` as value for these variables of these observations"
   ]
  },
  {
   "cell_type": "code",
   "execution_count": null,
   "metadata": {},
   "outputs": [],
   "source": [
    "pokemon_df.loc[pokemon_df['type_2'].isnull(),'type_2'] = \"None\""
   ]
  },
  {
   "cell_type": "markdown",
   "metadata": {},
   "source": [
    "Let's count the number of observations with the sentinel value"
   ]
  },
  {
   "cell_type": "code",
   "execution_count": null,
   "metadata": {},
   "outputs": [],
   "source": [
    "pokemon_df.loc[pokemon_df['type_2'] == \"None\", 'type_2'].shape"
   ]
  },
  {
   "cell_type": "markdown",
   "metadata": {},
   "source": [
    "### `NaN`s in the `hp` variable\n",
    "There is also a significant number of observations with `NaN` / `null` value for the `hp` variable. Instead of removing these observations from the dataset, we can just set a *sentinel value* to identify these observations. Since Pokemon stats cannot be a negative number, let's represent observations with no value for these variables as -1. Use the [`loc`](https://pandas.pydata.org/pandas-docs/stable/reference/api/pandas.DataFrame.loc.html) function to select and assign -1 as value for the `hp` variable of these observations"
   ]
  },
  {
   "cell_type": "code",
   "execution_count": null,
   "metadata": {},
   "outputs": [],
   "source": [
    "pokemon_df1 = pokemon_df.copy()\n",
    "pokemon_df2 = pokemon_df.copy()"
   ]
  },
  {
   "cell_type": "code",
   "execution_count": null,
   "metadata": {},
   "outputs": [],
   "source": [
    "pokemon_df1.loc[pokemon_df1['hp'].isnull(),'hp'] = -1"
   ]
  },
  {
   "cell_type": "markdown",
   "metadata": {},
   "source": [
    "Let's check if there are any `NaN` / `null` values remaining for the `hp` variable. "
   ]
  },
  {
   "cell_type": "code",
   "execution_count": null,
   "metadata": {},
   "outputs": [],
   "source": [
    "pokemon_df1['hp'].isnull().any()"
   ]
  },
  {
   "cell_type": "markdown",
   "metadata": {},
   "source": [
    "Alternatively, we can also use the [`fillna`](https://pandas.pydata.org/pandas-docs/stable/reference/api/pandas.DataFrame.fillna.html) function:"
   ]
  },
  {
   "cell_type": "code",
   "execution_count": null,
   "metadata": {},
   "outputs": [],
   "source": [
    "pokemon_df2['hp'] = pokemon_df2['hp'].fillna(-1)"
   ]
  },
  {
   "cell_type": "markdown",
   "metadata": {},
   "source": [
    "Let's check if there are any `NaN` / `null` values remaining for the `hp` variable. "
   ]
  },
  {
   "cell_type": "code",
   "execution_count": null,
   "metadata": {},
   "outputs": [],
   "source": [
    "# Write your code here\n"
   ]
  },
  {
   "cell_type": "markdown",
   "metadata": {},
   "source": [
    "Once again, let's update the main copy of the Pokemon dataframe with the cleaned hp variable."
   ]
  },
  {
   "cell_type": "code",
   "execution_count": null,
   "metadata": {},
   "outputs": [],
   "source": [
    "pokemon_df['hp'] = pokemon_df1['hp']"
   ]
  },
  {
   "cell_type": "markdown",
   "metadata": {},
   "source": [
    "Let's count number of observations with the sentinel value."
   ]
  },
  {
   "cell_type": "code",
   "execution_count": null,
   "metadata": {},
   "outputs": [],
   "source": [
    "# Write your code here\n"
   ]
  },
  {
   "cell_type": "markdown",
   "metadata": {},
   "source": [
    "**Checkpoint #12:** After cleaning, how many observations have a value equal to the sentinel value `-1` for the `hp` variable?"
   ]
  },
  {
   "cell_type": "markdown",
   "metadata": {},
   "source": [
    "### `NaN`s in the `defense` variable\n",
    "Write the code below to replace missing values for the `defense` variable with -1. You may use any of the approaches previously stated."
   ]
  },
  {
   "cell_type": "code",
   "execution_count": null,
   "metadata": {},
   "outputs": [],
   "source": [
    "# Write your code here\n"
   ]
  },
  {
   "cell_type": "markdown",
   "metadata": {},
   "source": [
    "Let's count number of observations with the sentinel value."
   ]
  },
  {
   "cell_type": "code",
   "execution_count": null,
   "metadata": {},
   "outputs": [],
   "source": [
    "# Write your code here\n"
   ]
  },
  {
   "cell_type": "markdown",
   "metadata": {},
   "source": [
    "**Checkpoint #13:** After cleaning, how many observations have a value equal to the sentinel value of -1 for the `defense` variable?"
   ]
  },
  {
   "cell_type": "markdown",
   "metadata": {},
   "source": [
    "## Further reading\n",
    "**Motivation for setting a sentinel value (as opposed to leaving it as NaN)**\n",
    "- This [article](https://www.residentmar.io/2016/06/12/null-and-missing-data-python.html) goes through the motivation for setting a sentinel value in much detail as well as the alternative approaches we may use in Python."
   ]
  }
 ],
 "metadata": {
  "kernelspec": {
   "display_name": "Python 3 (ipykernel)",
   "language": "python",
   "name": "python3"
  },
  "language_info": {
   "codemirror_mode": {
    "name": "ipython",
    "version": 3
   },
   "file_extension": ".py",
   "mimetype": "text/x-python",
   "name": "python",
   "nbconvert_exporter": "python",
   "pygments_lexer": "ipython3",
   "version": "3.11.7"
  }
 },
 "nbformat": 4,
 "nbformat_minor": 4
}
